{
 "cells": [
  {
   "cell_type": "code",
   "execution_count": null,
   "metadata": {},
   "outputs": [],
   "source": [
    "\"\"\"Simple solve.\"\"\"\n",
    "from ortools.sat.python import cp_model\n",
    "\n",
    "\n",
    "def SimpleSatProgram([]):\n",
    "    \"\"\"Minimal CP-SAT example to showcase calling the solver.\"\"\"\n",
    "    # Creates the model.\n",
    "    model = cp_model.CpModel()\n",
    "\n",
    "    number_of_places = 10\n",
    "\n",
    "    # Creates the variables.\n",
    "    travel = [ model.NewIntVar(0, number_of_places -1, f\"x_{i}\") for i in range(number_of_places)]\n",
    "    \n",
    "    # Creates the constraints.\n",
    "    model.AddAllDifferent(travel)\n",
    "\n",
    "    # There should be a link between a variable and the next one \n",
    "    model.Add()\n",
    "\n",
    "\n",
    "    # Creates a solver and solves the model.\n",
    "    solver = cp_model.CpSolver()\n",
    "    status = solver.Solve(model)\n",
    "\n",
    "    if status == cp_model.OPTIMAL or status == cp_model.FEASIBLE:\n",
    "        print(f\"x = {solver.Value(x)}\")\n",
    "        print(f\"y = {solver.Value(y)}\")\n",
    "        print(f\"z = {solver.Value(z)}\")\n",
    "    else:\n",
    "        print(\"No solution found.\")\n",
    "\n",
    "\n",
    "SimpleSatProgram()"
   ]
  }
 ],
 "metadata": {
  "kernelspec": {
   "display_name": "Python 3.10.13 ('resolution_probleme')",
   "language": "python",
   "name": "python3"
  },
  "language_info": {
   "name": "python",
   "version": "3.10.13"
  },
  "orig_nbformat": 4,
  "vscode": {
   "interpreter": {
    "hash": "d2eb3976e01fa82d7ea377f6dfab4fcdabee8e7a948b389b1baedde66230fb2b"
   }
  }
 },
 "nbformat": 4,
 "nbformat_minor": 2
}
