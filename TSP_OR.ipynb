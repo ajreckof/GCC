{
 "cells": [
  {
   "cell_type": "code",
   "execution_count": 49,
   "metadata": {},
   "outputs": [],
   "source": [
    "import networkx as nx\n",
    "import numpy as np\n",
    "import tsplib95\n",
    "import random\n",
    "import matplotlib.pyplot as plt\n",
    "import time\n",
    "from utils import get_distance_matrix as compute_euclidean_distance_matrix"
   ]
  },
  {
   "cell_type": "code",
   "execution_count": 50,
   "metadata": {},
   "outputs": [],
   "source": [
    "filename=\"TSP_Instances/bier127.tsp\""
   ]
  },
  {
   "cell_type": "code",
   "execution_count": 51,
   "metadata": {},
   "outputs": [
    {
     "name": "stdout",
     "output_type": "stream",
     "text": [
      "Objective: 120494\n",
      "Route:\n",
      " 0 -> 15 -> 36 -> 35 -> 34 -> 43 -> 102 -> 44 -> 53 -> 56 -> 120 -> 4 -> 55 -> 123 -> 51 -> 99 -> 63 -> 57 -> 2 -> 89 -> 115 -> 59 -> 60 -> 90 -> 61 -> 58 -> 66 -> 72 -> 73 -> 67 -> 70 -> 69 -> 68 -> 74 -> 75 -> 77 -> 116 -> 83 -> 80 -> 125 -> 81 -> 82 -> 100 -> 101 -> 62 -> 118 -> 95 -> 108 -> 87 -> 86 -> 85 -> 84 -> 109 -> 103 -> 124 -> 88 -> 91 -> 98 -> 64 -> 112 -> 65 -> 54 -> 46 -> 52 -> 48 -> 117 -> 47 -> 45 -> 93 -> 111 -> 110 -> 106 -> 92 -> 94 -> 122 -> 96 -> 97 -> 31 -> 28 -> 24 -> 32 -> 121 -> 27 -> 41 -> 39 -> 40 -> 13 -> 11 -> 30 -> 26 -> 29 -> 42 -> 33 -> 38 -> 37 -> 25 -> 79 -> 78 -> 76 -> 17 -> 20 -> 16 -> 19 -> 107 -> 14 -> 105 -> 5 -> 23 -> 22 -> 3 -> 21 -> 18 -> 71 -> 7 -> 8 -> 10 -> 113 -> 104 -> 6 -> 119 -> 9 -> 114 -> 12 -> 49 -> 50 -> 1 -> 0\n",
      "Distance: 120494m\n",
      "\n"
     ]
    },
    {
     "ename": "TypeError",
     "evalue": "list indices must be integers or slices, not tuple",
     "output_type": "error",
     "traceback": [
      "\u001b[1;31m---------------------------------------------------------------------------\u001b[0m",
      "\u001b[1;31mTypeError\u001b[0m                                 Traceback (most recent call last)",
      "Cell \u001b[1;32mIn[51], line 131\u001b[0m\n\u001b[0;32m    128\u001b[0m     plt\u001b[38;5;241m.\u001b[39mshow()\n\u001b[0;32m    130\u001b[0m \u001b[38;5;28;01mif\u001b[39;00m \u001b[38;5;18m__name__\u001b[39m \u001b[38;5;241m==\u001b[39m \u001b[38;5;124m\"\u001b[39m\u001b[38;5;124m__main__\u001b[39m\u001b[38;5;124m\"\u001b[39m:\n\u001b[1;32m--> 131\u001b[0m     \u001b[43mmain\u001b[49m\u001b[43m(\u001b[49m\u001b[43m)\u001b[49m\n",
      "Cell \u001b[1;32mIn[51], line 115\u001b[0m, in \u001b[0;36mmain\u001b[1;34m()\u001b[0m\n\u001b[0;32m    112\u001b[0m ax\u001b[38;5;241m.\u001b[39mset_xlabel(\u001b[38;5;124m'\u001b[39m\u001b[38;5;124mX\u001b[39m\u001b[38;5;124m'\u001b[39m)\n\u001b[0;32m    113\u001b[0m ax\u001b[38;5;241m.\u001b[39mset_ylabel(\u001b[38;5;124m'\u001b[39m\u001b[38;5;124mY\u001b[39m\u001b[38;5;124m'\u001b[39m)\n\u001b[1;32m--> 115\u001b[0m ax\u001b[38;5;241m.\u001b[39mscatter(\u001b[43mcoords\u001b[49m\u001b[43m[\u001b[49m\u001b[43m:\u001b[49m\u001b[43m,\u001b[49m\u001b[38;5;241;43m0\u001b[39;49m\u001b[43m]\u001b[49m, coords[:,\u001b[38;5;241m1\u001b[39m], c\u001b[38;5;241m=\u001b[39m\u001b[38;5;124m'\u001b[39m\u001b[38;5;124mr\u001b[39m\u001b[38;5;124m'\u001b[39m, marker\u001b[38;5;241m=\u001b[39m\u001b[38;5;124m'\u001b[39m\u001b[38;5;124mo\u001b[39m\u001b[38;5;124m'\u001b[39m)\n\u001b[0;32m    116\u001b[0m plt\u001b[38;5;241m.\u001b[39mtitle(\u001b[38;5;124m\"\u001b[39m\u001b[38;5;124mVilles à rejoindre\u001b[39m\u001b[38;5;124m\"\u001b[39m)\n\u001b[0;32m    117\u001b[0m plt\u001b[38;5;241m.\u001b[39mshow()\n",
      "\u001b[1;31mTypeError\u001b[0m: list indices must be integers or slices, not tuple"
     ]
    },
    {
     "data": {
      "image/png": "[encoded data removed]",
      "text/plain": [
       "<Figure size 640x480 with 1 Axes>"
      ]
     },
     "metadata": {},
     "output_type": "display_data"
    }
   ],
   "source": [
    "\"\"\"Simple Travelling Salesperson Problem (TSP) on a circuit board.\"\"\"\n",
    "\n",
    "import math\n",
    "from ortools.constraint_solver import routing_enums_pb2\n",
    "from ortools.constraint_solver import pywrapcp\n",
    "\n",
    "\n",
    "\n",
    "def create_data_model(filename):\n",
    "    problem = tsplib95.load(filename)\n",
    "    tabCoords=[]\n",
    "    for i in range(1,len(problem.node_coords)):\n",
    "        tabCoords+=[problem.node_coords[i]]\n",
    "\n",
    "    # Convertir la liste1 en un tableau NumPy\n",
    "    tableau = np.array(tabCoords)\n",
    "\n",
    "    # Obtenir les coordonnées x et y à partir du tableau\n",
    "    x_coords = tableau[:, 0]\n",
    "    y_coords = tableau[:, 1]\n",
    "\n",
    "    # Créer une liste de tuples à partir des coordonnées x et y\n",
    "    liste = [(x, y) for x, y in zip(x_coords, y_coords)]\n",
    "    \"\"\"Stores the data for the problem.\"\"\"\n",
    "    data = {}\n",
    "    # Locations in block units\n",
    "    data[\"locations\"] = liste\n",
    "    data[\"num_vehicles\"] = 1\n",
    "    data[\"depot\"] = 0\n",
    "    return data\n",
    "\n",
    "def print_solution(manager, routing, solution):\n",
    "    \"\"\"Prints solution on console.\"\"\"\n",
    "    print(f\"Objective: {solution.ObjectiveValue()}\")\n",
    "    index = routing.Start(0)\n",
    "    plan_output = \"Route:\\n\"\n",
    "    route_distance = 0\n",
    "    while not routing.IsEnd(index):\n",
    "        plan_output += f\" {manager.IndexToNode(index)} ->\"\n",
    "        previous_index = index\n",
    "        index = solution.Value(routing.NextVar(index))\n",
    "        route_distance += routing.GetArcCostForVehicle(previous_index, index, 0)\n",
    "    plan_output += f\" {manager.IndexToNode(index)}\\n\"\n",
    "    plan_output += f\"Distance: {route_distance}m\\n\"\n",
    "    print(plan_output)\n",
    "\n",
    "\n",
    "def main():\n",
    "    \"\"\"Entry point of the program.\"\"\"\n",
    "    # Instantiate the data problem.\n",
    "    data = create_data_model(filename)\n",
    "\n",
    "    # Create the routing index manager.\n",
    "    manager = pywrapcp.RoutingIndexManager(\n",
    "        len(data[\"locations\"]), data[\"num_vehicles\"], data[\"depot\"]\n",
    "    )\n",
    "\n",
    "    # Create Routing Model.\n",
    "    routing = pywrapcp.RoutingModel(manager)\n",
    "\n",
    "    distance_matrix = compute_euclidean_distance_matrix(data[\"locations\"])\n",
    "\n",
    "    def distance_callback(from_index, to_index):\n",
    "        \"\"\"Returns the distance between the two nodes.\"\"\"\n",
    "        # Convert from routing variable Index to distance matrix NodeIndex.\n",
    "        from_node = manager.IndexToNode(from_index)\n",
    "        to_node = manager.IndexToNode(to_index)\n",
    "        return distance_matrix[from_node][to_node]\n",
    "\n",
    "    transit_callback_index = routing.RegisterTransitCallback(distance_callback)\n",
    "\n",
    "    # Define cost of each arc.\n",
    "    routing.SetArcCostEvaluatorOfAllVehicles(transit_callback_index)\n",
    "\n",
    "    # Setting first solution heuristic.\n",
    "    search_parameters = pywrapcp.DefaultRoutingSearchParameters()\n",
    "    search_parameters.first_solution_strategy = (\n",
    "        routing_enums_pb2.FirstSolutionStrategy.PATH_CHEAPEST_ARC\n",
    "    )\n",
    "\n",
    "    # Solve the problem.\n",
    "    solution = routing.SolveWithParameters(search_parameters)\n",
    "\n",
    "    # Print solution on console.\n",
    "    if solution:\n",
    "        print_solution(manager, routing, solution)\n",
    "    \n",
    "    problem = tsplib95.load(filename)\n",
    "    coords=[]\n",
    "    for i in range(1,len(problem.node_coords)):\n",
    "        coords+=[problem.node_coords[i]]\n",
    "\n",
    "    fig = plt.figure()\n",
    "    ax = fig.add_subplot()\n",
    "    ax.set_xlabel('X')\n",
    "    ax.set_ylabel('Y')\n",
    "\n",
    "    ax.scatter(coords[:,0], coords[:,1], c='r', marker='o')\n",
    "    plt.title(\"Villes à rejoindre\")\n",
    "    plt.show()\n",
    "\n",
    "    #Dessin du résultat   || EN COURS ||\n",
    "    index = routing.Start(0)\n",
    "    while not routing.IsEnd(index):\n",
    "        previous_index = index\n",
    "        index = solution.Value(routing.NextVar(index))\n",
    "        route_distance += routing.GetArcCostForVehicle(previous_index, index, 0)\n",
    "        ax.plot(coords[[previous_index],0],coords[[index],0],\n",
    "                coords[[previous_index],1],coords[[index],1],\n",
    "                c='b', linestyle='-')\n",
    "    plt.show()\n",
    "\n",
    "if __name__ == \"__main__\":\n",
    "    main()"
   ]
  }
 ],
 "metadata": {
  "kernelspec": {
   "display_name": "Python 3.10.13 ('resolution_probleme')",
   "language": "python",
   "name": "python3"
  },
  "language_info": {
   "codemirror_mode": {
    "name": "ipython",
    "version": 3
   },
   "file_extension": ".py",
   "mimetype": "text/x-python",
   "name": "python",
   "nbconvert_exporter": "python",
   "pygments_lexer": "ipython3",
   "version": "3.10.13"
  },
  "vscode": {
   "interpreter": {
    "hash": "d2eb3976e01fa82d7ea377f6dfab4fcdabee8e7a948b389b1baedde66230fb2b"
   }
  }
 },
 "nbformat": 4,
 "nbformat_minor": 2
}
